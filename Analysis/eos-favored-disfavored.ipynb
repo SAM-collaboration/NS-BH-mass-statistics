{
 "cells": [
  {
   "cell_type": "code",
   "execution_count": 6,
   "metadata": {},
   "outputs": [],
   "source": [
    "%matplotlib inline"
   ]
  },
  {
   "cell_type": "code",
   "execution_count": 7,
   "metadata": {},
   "outputs": [],
   "source": [
    "import numpy as np\n",
    "import matplotlib as mpl\n",
    "from matplotlib import pyplot as plt\n",
    "from matplotlib import rc\n",
    "import pandas as pd\n",
    "from os import path"
   ]
  },
  {
   "cell_type": "code",
   "execution_count": 8,
   "metadata": {},
   "outputs": [
    {
     "name": "stdout",
     "output_type": "stream",
     "text": [
      "bh_results_10_28_2020_843_cf.csv  nsd_results.csv\n",
      "bh_results_10_28_2020_843.csv     nsi_results_10_28_2020_843.csv\n",
      "bh_results.csv                    nsi_results.csv\n",
      "nsd_results_10_28_2020_843.csv    nss_results_13_01_2021.csv\n"
     ]
    }
   ],
   "source": [
    "%ls post-bootstrap"
   ]
  },
  {
   "cell_type": "code",
   "execution_count": 4,
   "metadata": {},
   "outputs": [],
   "source": [
    "#fpath = 'post-bootstrap'\n",
    "#postfix = '_results_10_28_2020_843.csv'\n",
    "#filenames = [path.join('.',fpath,f + postfix) for f in ['bh','nsi','nsd']]\n",
    "#data_bh,data_nsi,data_nsd = [pd.read_csv(f) for f in filenames]"
   ]
  },
  {
   "cell_type": "code",
   "execution_count": 10,
   "metadata": {},
   "outputs": [],
   "source": [
    "fpath = 'post-bootstrap'\n",
    "filenames = ['bh_results_10_28_2020_843.csv', 'nss_results_13_01_2021.csv']\n",
    "filenames = [path.join('.',fpath,f) for f in filenames]\n",
    "data_bh, data_nss = [pd.read_csv(f) for f in filenames]"
   ]
  },
  {
   "cell_type": "code",
   "execution_count": 11,
   "metadata": {},
   "outputs": [
    {
     "data": {
      "text/html": [
       "<div>\n",
       "<style scoped>\n",
       "    .dataframe tbody tr th:only-of-type {\n",
       "        vertical-align: middle;\n",
       "    }\n",
       "\n",
       "    .dataframe tbody tr th {\n",
       "        vertical-align: top;\n",
       "    }\n",
       "\n",
       "    .dataframe thead th {\n",
       "        text-align: right;\n",
       "    }\n",
       "</style>\n",
       "<table border=\"1\" class=\"dataframe\">\n",
       "  <thead>\n",
       "    <tr style=\"text-align: right;\">\n",
       "      <th></th>\n",
       "      <th>EOS</th>\n",
       "      <th>KL_CI_L</th>\n",
       "      <th>KL_CI_U</th>\n",
       "      <th>TV_CI_L</th>\n",
       "      <th>TV_CI_U</th>\n",
       "      <th>KL_MEAN</th>\n",
       "      <th>TV_MEAN</th>\n",
       "    </tr>\n",
       "  </thead>\n",
       "  <tbody>\n",
       "    <tr>\n",
       "      <th>0</th>\n",
       "      <td>0</td>\n",
       "      <td>0.459857</td>\n",
       "      <td>0.629182</td>\n",
       "      <td>0.288486</td>\n",
       "      <td>0.374338</td>\n",
       "      <td>0.5277</td>\n",
       "      <td>0.3242</td>\n",
       "    </tr>\n",
       "    <tr>\n",
       "      <th>1</th>\n",
       "      <td>1</td>\n",
       "      <td>0.741362</td>\n",
       "      <td>1.846760</td>\n",
       "      <td>0.431560</td>\n",
       "      <td>0.678532</td>\n",
       "      <td>1.0111</td>\n",
       "      <td>0.5231</td>\n",
       "    </tr>\n",
       "    <tr>\n",
       "      <th>2</th>\n",
       "      <td>2</td>\n",
       "      <td>0.687646</td>\n",
       "      <td>2.509215</td>\n",
       "      <td>0.410010</td>\n",
       "      <td>0.705836</td>\n",
       "      <td>0.9992</td>\n",
       "      <td>0.5193</td>\n",
       "    </tr>\n",
       "    <tr>\n",
       "      <th>3</th>\n",
       "      <td>3</td>\n",
       "      <td>0.593218</td>\n",
       "      <td>0.998222</td>\n",
       "      <td>0.366233</td>\n",
       "      <td>0.515424</td>\n",
       "      <td>0.7287</td>\n",
       "      <td>0.4267</td>\n",
       "    </tr>\n",
       "    <tr>\n",
       "      <th>4</th>\n",
       "      <td>4</td>\n",
       "      <td>0.600856</td>\n",
       "      <td>1.047445</td>\n",
       "      <td>0.371866</td>\n",
       "      <td>0.529870</td>\n",
       "      <td>0.7524</td>\n",
       "      <td>0.4373</td>\n",
       "    </tr>\n",
       "    <tr>\n",
       "      <th>5</th>\n",
       "      <td>5</td>\n",
       "      <td>0.629603</td>\n",
       "      <td>1.267285</td>\n",
       "      <td>0.384245</td>\n",
       "      <td>0.578428</td>\n",
       "      <td>0.8081</td>\n",
       "      <td>0.4571</td>\n",
       "    </tr>\n",
       "  </tbody>\n",
       "</table>\n",
       "</div>"
      ],
      "text/plain": [
       "   EOS   KL_CI_L   KL_CI_U   TV_CI_L   TV_CI_U  KL_MEAN  TV_MEAN\n",
       "0    0  0.459857  0.629182  0.288486  0.374338   0.5277   0.3242\n",
       "1    1  0.741362  1.846760  0.431560  0.678532   1.0111   0.5231\n",
       "2    2  0.687646  2.509215  0.410010  0.705836   0.9992   0.5193\n",
       "3    3  0.593218  0.998222  0.366233  0.515424   0.7287   0.4267\n",
       "4    4  0.600856  1.047445  0.371866  0.529870   0.7524   0.4373\n",
       "5    5  0.629603  1.267285  0.384245  0.578428   0.8081   0.4571"
      ]
     },
     "execution_count": 11,
     "metadata": {},
     "output_type": "execute_result"
    }
   ],
   "source": [
    "data_bh"
   ]
  },
  {
   "cell_type": "code",
   "execution_count": 12,
   "metadata": {},
   "outputs": [
    {
     "data": {
      "text/html": [
       "<div>\n",
       "<style scoped>\n",
       "    .dataframe tbody tr th:only-of-type {\n",
       "        vertical-align: middle;\n",
       "    }\n",
       "\n",
       "    .dataframe tbody tr th {\n",
       "        vertical-align: top;\n",
       "    }\n",
       "\n",
       "    .dataframe thead th {\n",
       "        text-align: right;\n",
       "    }\n",
       "</style>\n",
       "<table border=\"1\" class=\"dataframe\">\n",
       "  <thead>\n",
       "    <tr style=\"text-align: right;\">\n",
       "      <th></th>\n",
       "      <th>EOS</th>\n",
       "      <th>KL_CI_L</th>\n",
       "      <th>KL_CI_U</th>\n",
       "      <th>TV_CI_L</th>\n",
       "      <th>TV_CI_U</th>\n",
       "      <th>KL_MEAN</th>\n",
       "      <th>TV_MEAN</th>\n",
       "    </tr>\n",
       "  </thead>\n",
       "  <tbody>\n",
       "    <tr>\n",
       "      <th>0</th>\n",
       "      <td>0</td>\n",
       "      <td>0.023361</td>\n",
       "      <td>0.124162</td>\n",
       "      <td>0.072961</td>\n",
       "      <td>0.169908</td>\n",
       "      <td>0.066457</td>\n",
       "      <td>0.124983</td>\n",
       "    </tr>\n",
       "    <tr>\n",
       "      <th>1</th>\n",
       "      <td>1</td>\n",
       "      <td>0.016442</td>\n",
       "      <td>0.151274</td>\n",
       "      <td>0.063480</td>\n",
       "      <td>0.192636</td>\n",
       "      <td>0.070505</td>\n",
       "      <td>0.132698</td>\n",
       "    </tr>\n",
       "    <tr>\n",
       "      <th>2</th>\n",
       "      <td>2</td>\n",
       "      <td>0.018657</td>\n",
       "      <td>0.179757</td>\n",
       "      <td>0.068814</td>\n",
       "      <td>0.209827</td>\n",
       "      <td>0.081931</td>\n",
       "      <td>0.143487</td>\n",
       "    </tr>\n",
       "    <tr>\n",
       "      <th>3</th>\n",
       "      <td>3</td>\n",
       "      <td>0.010173</td>\n",
       "      <td>0.109667</td>\n",
       "      <td>0.040812</td>\n",
       "      <td>0.166414</td>\n",
       "      <td>0.043559</td>\n",
       "      <td>0.104940</td>\n",
       "    </tr>\n",
       "    <tr>\n",
       "      <th>4</th>\n",
       "      <td>4</td>\n",
       "      <td>0.002145</td>\n",
       "      <td>0.073405</td>\n",
       "      <td>0.018282</td>\n",
       "      <td>0.136291</td>\n",
       "      <td>0.017763</td>\n",
       "      <td>0.068441</td>\n",
       "    </tr>\n",
       "    <tr>\n",
       "      <th>5</th>\n",
       "      <td>5</td>\n",
       "      <td>0.002172</td>\n",
       "      <td>0.084681</td>\n",
       "      <td>0.018665</td>\n",
       "      <td>0.146585</td>\n",
       "      <td>0.024800</td>\n",
       "      <td>0.080194</td>\n",
       "    </tr>\n",
       "  </tbody>\n",
       "</table>\n",
       "</div>"
      ],
      "text/plain": [
       "   EOS   KL_CI_L   KL_CI_U   TV_CI_L   TV_CI_U   KL_MEAN   TV_MEAN\n",
       "0    0  0.023361  0.124162  0.072961  0.169908  0.066457  0.124983\n",
       "1    1  0.016442  0.151274  0.063480  0.192636  0.070505  0.132698\n",
       "2    2  0.018657  0.179757  0.068814  0.209827  0.081931  0.143487\n",
       "3    3  0.010173  0.109667  0.040812  0.166414  0.043559  0.104940\n",
       "4    4  0.002145  0.073405  0.018282  0.136291  0.017763  0.068441\n",
       "5    5  0.002172  0.084681  0.018665  0.146585  0.024800  0.080194"
      ]
     },
     "execution_count": 12,
     "metadata": {},
     "output_type": "execute_result"
    }
   ],
   "source": [
    "data_nss"
   ]
  },
  {
   "cell_type": "code",
   "execution_count": 13,
   "metadata": {},
   "outputs": [],
   "source": [
    "rc('font',size=16)"
   ]
  },
  {
   "cell_type": "code",
   "execution_count": 14,
   "metadata": {},
   "outputs": [],
   "source": [
    "def offset_to_zero(dset,tpe):\n",
    "    means = dset[f'{tpe}_MEAN'].copy()\n",
    "    ci_l = means - dset[f'{tpe}_CI_L'].copy()\n",
    "    ci_u = dset[f'{tpe}_CI_U'].copy() - means\n",
    "    dset[f'{tpe}_CI_PLUS'] = ci_u\n",
    "    dset[f'{tpe}_CI_MINUS'] = ci_l\n",
    "    offset = means.mean()\n",
    "    means -= offset\n",
    "    #ci_l -= offset\n",
    "    #ci_u -= offset\n",
    "    return means, np.vstack((ci_l,ci_u))"
   ]
  },
  {
   "cell_type": "code",
   "execution_count": 15,
   "metadata": {},
   "outputs": [],
   "source": [
    "KL_BH_d, KL_BH_BND = offset_to_zero(data_bh,'KL')"
   ]
  },
  {
   "cell_type": "code",
   "execution_count": 16,
   "metadata": {},
   "outputs": [
    {
     "data": {
      "text/plain": [
       "0    0.067843\n",
       "1    0.269738\n",
       "2    0.311554\n",
       "3    0.135482\n",
       "4    0.151544\n",
       "5    0.178497\n",
       "Name: KL_CI_MINUS, dtype: float64"
      ]
     },
     "execution_count": 16,
     "metadata": {},
     "output_type": "execute_result"
    }
   ],
   "source": [
    "data_bh[\"KL_CI_MINUS\"]"
   ]
  },
  {
   "cell_type": "code",
   "execution_count": 17,
   "metadata": {},
   "outputs": [],
   "source": [
    "TV_BH_d, TV_BH_BND = offset_to_zero(data_bh,'TV')"
   ]
  },
  {
   "cell_type": "code",
   "execution_count": 18,
   "metadata": {},
   "outputs": [],
   "source": [
    "#KL_NSI_d, KL_NSI_BND = offset_to_zero(data_nsi, 'KL')\n",
    "#TV_NSI_d, TV_NSI_BND = offset_to_zero(data_nsi, 'TV')\n",
    "#KL_DNS_d, KL_DNS_BND = offset_to_zero(data_nsd, 'KL')\n",
    "#TV_DNS_d, TV_DNS_BND = offset_to_zero(data_nsd, 'TV')"
   ]
  },
  {
   "cell_type": "code",
   "execution_count": 19,
   "metadata": {},
   "outputs": [],
   "source": [
    "KL_NSS_d, KL_NSS_BND = offset_to_zero(data_nss,'KL')\n",
    "TV_NSS_d, TV_NSS_BND = offset_to_zero(data_nss,'TV')"
   ]
  },
  {
   "cell_type": "code",
   "execution_count": 20,
   "metadata": {},
   "outputs": [
    {
     "data": {
      "text/plain": [
       "0    0.043096\n",
       "1    0.054063\n",
       "2    0.063274\n",
       "3    0.033385\n",
       "4    0.015618\n",
       "5    0.022629\n",
       "Name: KL_CI_MINUS, dtype: float64"
      ]
     },
     "execution_count": 20,
     "metadata": {},
     "output_type": "execute_result"
    }
   ],
   "source": [
    "data_nss[\"KL_CI_MINUS\"]"
   ]
  },
  {
   "cell_type": "code",
   "execution_count": 21,
   "metadata": {},
   "outputs": [],
   "source": [
    "ids = np.arange(6)\n",
    "idlabels = ['DD2','SFHo','SFHx',r'BHB$\\lambda\\phi$','TM1','NL3']"
   ]
  },
  {
   "cell_type": "code",
   "execution_count": 23,
   "metadata": {},
   "outputs": [
    {
     "data": {
      "image/png": "[encoded data removed]",
      "text/plain": [
       "<Figure size 720x576 with 4 Axes>"
      ]
     },
     "metadata": {
      "needs_background": "light"
     },
     "output_type": "display_data"
    }
   ],
   "source": [
    "fig,axarr = plt.subplots(2,2,sharex=True,sharey='row',figsize=(10,8))\n",
    "for i in range(2):\n",
    "    for j in range(2):\n",
    "        xrange = np.linspace(-1,ids[-1]+1)\n",
    "        axarr[i,j].set_xlim(-0.5,ids[-1]+0.5)\n",
    "        axarr[i,j].plot(xrange,np.zeros_like(xrange),ls='--',color='grey')\n",
    "\n",
    "axarr[0,0].errorbar(ids,KL_BH_d,KL_BH_BND,ls=' ',marker='^',label='BH',ms=12,color='#ff7f0e')\n",
    "#axarr[0,0].set_ylim(-0.5,0.5)\n",
    "axarr[0,0].set_ylabel(r'$\\Delta$KL')\n",
    "\n",
    "axarr[0,1].errorbar(ids,KL_NSS_d, KL_NSS_BND, ls = ' ',marker='o',label='NSS', ms=10,fillstyle='none',color='k')#'#2ca02c')\n",
    "#axarr[0,1].errorbar(ids-0.1,KL_DNS_d, KL_DNS_BND, ls = ' ',marker='o',label='double', ms=10,fillstyle='none',color='k')#'#2ca02c')\n",
    "#axarr[0,1].errorbar(ids+0.1,KL_NSI_d, KL_NSI_BND, ls=' ',marker='*',label='single', ms=8,color='#17becf')#color='#1f77b4')\n",
    "#axarr[0,1].plot(ids-0.1,KL_DNS_d, ls = ' ',marker='o',label='double', ms=10,fillstyle='none',color='k')#'#2ca02c')\n",
    "#axarr[0,1].plot(ids+0.1,KL_NSI_d, ls=' ',marker='*',label='single', ms=8,color='#17becf')#color='#1f77b4')\n",
    "#axarr[0,1].set_ylim(-0.5,0.9)\n",
    "\n",
    "axarr[1,0].errorbar(ids,TV_BH_d,TV_BH_BND,ls=' ',marker='^',label='BH',ms=12,color='#ff7f0e')\n",
    "axarr[1,0].set_ylabel(r'$\\Delta$TV')\n",
    "#axarr[1,0].set_ylim(-0.3,0.8)\n",
    "\n",
    "axarr[1,1].errorbar(ids,TV_NSS_d, KL_NSS_BND, ls=' ', marker='o',label='NSS',ms=10,fillstyle='none',color='k')#'#2ca02c')\n",
    "#axarr[1,1].errorbar(ids-0.1,TV_DNS_d, KL_DNS_BND, ls=' ', marker='o',label='double',ms=10,fillstyle='none',color='k')#'#2ca02c')\n",
    "#axarr[1,1].plot(ids-0.1,TV_DNS_d, ls=' ', marker='o',label='double',ms=10,fillstyle='none',color='k')#'#2ca02c')\n",
    "#axarr[1,1].errorbar(ids+0.1,TV_NSI_d, KL_NSI_BND, ls=' ',marker='*',label='single',ms=8,color='#17becf')#'#1f77b4',)\n",
    "#axarr[1,1].set_ylim(-0.15,0.15)\n",
    "\n",
    "axarr[0,0].set_title('black holes')\n",
    "axarr[0,1].set_title('neutron stars')\n",
    "\n",
    "for j in range(2):\n",
    "    axarr[1,j].set_xticks(ids)\n",
    "    axarr[1,j].set_xticklabels(idlabels,rotation=90)\n",
    "#axarr[0,1].legend(ncol=2,loc='upper center')\n",
    "plt.tight_layout()\n",
    "\n",
    "plt.savefig('delta-distances.png',bbox_inches='tight',dpi=600)\n",
    "plt.savefig('delta-distances.pdf',bbox_inches='tight',dpi=600)"
   ]
  },
  {
   "cell_type": "code",
   "execution_count": 26,
   "metadata": {},
   "outputs": [],
   "source": [
    "positives = np.zeros_like(ids)\n",
    "negatives = np.zeros_like(ids)\n",
    "for dset in [KL_BH_d,KL_NSS_d,TV_BH_d,TV_NSS_d]:\n",
    "    positives += (dset > 0)\n",
    "    negatives -= (dset < 0)"
   ]
  },
  {
   "cell_type": "code",
   "execution_count": 27,
   "metadata": {},
   "outputs": [
    {
     "data": {
      "image/png": "[encoded data removed]",
      "text/plain": [
       "<Figure size 432x288 with 1 Axes>"
      ]
     },
     "metadata": {
      "needs_background": "light"
     },
     "output_type": "display_data"
    }
   ],
   "source": [
    "plt.scatter(ids,-negatives,label='disfavored')\n",
    "ax = plt.gca()\n",
    "ax.set_xticks(ids)\n",
    "ax.set_xticklabels(idlabels,rotation=90)\n",
    "plt.ylabel(\"# of favorable metrics\")\n",
    "plt.savefig('num-favorable-metrics.png',bbox_inches='tight')\n",
    "plt.savefig('num-favorable-metrics.pdf',bbox_inches='tight')\n",
    "#plt.scatter(ids,negatives,label='favored')\n",
    "#plt.plot(ids,np.zeros_like(ids),'k--')\n",
    "#plt.legend()"
   ]
  },
  {
   "cell_type": "code",
   "execution_count": 28,
   "metadata": {},
   "outputs": [
    {
     "data": {
      "text/plain": [
       "0    3\n",
       "1    4\n",
       "2    0\n",
       "3    5\n",
       "4    1\n",
       "5    2\n",
       "Name: KL_MEAN, dtype: int64"
      ]
     },
     "execution_count": 28,
     "metadata": {},
     "output_type": "execute_result"
    }
   ],
   "source": [
    "rankings_pos = positives.argsort()\n",
    "rankings_neg = negatives.argsort()\n",
    "rankings_pos"
   ]
  },
  {
   "cell_type": "code",
   "execution_count": 32,
   "metadata": {},
   "outputs": [],
   "source": [
    "tablestring = rf\"\"\"\\begin{{deluxetable}}{{lllllll}}\n",
    "\\tablecaption{{\n",
    "    Summary of distances for all three populations and all six EOS models.\n",
    "    \\label{{tab:distances}}\n",
    "}}\n",
    "\\tablewidth{{0pt}}\n",
    "\\tablehead{{\n",
    "    \\colhead{{EOS}} &\n",
    "    \\twocolhead{{BH}} &\n",
    "    \\twocolhead{{NSS}} \\\\\n",
    "%\n",
    "    \\colhead{{}} & \n",
    "    \\colhead{{$D_{{KL}}$}} & \n",
    "    \\colhead{{$D_{{TV}}$}} &\n",
    "    \\colhead{{$D_{{KL}}$}} & \n",
    "    \\colhead{{$D_{{TV}}$}}\n",
    "}}\n",
    "\\startdata\n",
    "\"\"\"\n",
    "for i,l in enumerate(idlabels):\n",
    "    tablestring += rf\"\"\"{l} &\n",
    "\"\"\"\n",
    "    for pop,dset in zip(['BH', 'NSS',], [data_bh, data_nss]):\n",
    "        for tpe in ['KL','TV']:\n",
    "            astring = f'{tpe}_MEAN'\n",
    "            pstring = f'{tpe}_CI_PLUS'\n",
    "            mstring = f'{tpe}_CI_MINUS'\n",
    "            car = r\"\\\\\" if pop == 'NSS' and tpe == 'TV' else f\"& \"\n",
    "            tablestring += rf\"\"\"    {dset[astring][i]:.3f}$^{{+{dset[pstring][i]:.3f}}}_{{{-dset[mstring][i]:.3f}}}$ {car} % {tpe} for {pop}\n",
    "\"\"\"\n",
    "tablestring += r\"\"\"\\enddata\n",
    "%\\tablecomments{\n",
    "%    Note that we exclude from our analysis the BH formed with SFHx due to the small number of simulations with this EoS and outcome.}\n",
    "\\end{deluxetable}\n",
    "\"\"\""
   ]
  },
  {
   "cell_type": "code",
   "execution_count": 33,
   "metadata": {},
   "outputs": [],
   "source": [
    "with open('table_distances.tex', 'w') as f:\n",
    "    f.write(tablestring)"
   ]
  },
  {
   "cell_type": "code",
   "execution_count": 34,
   "metadata": {},
   "outputs": [
    {
     "name": "stdout",
     "output_type": "stream",
     "text": [
      "\\begin{deluxetable*}{lllllll}\n",
      "\\tablecaption{\n",
      "    Summary of distances for all three populations and all six EOS models.\n",
      "    \\label{tab:distances}\n",
      "}\n",
      "\\tablewidth{0pt}\n",
      "\\tablehead{\n",
      "    \\colhead{EOS} &\n",
      "    \\twocolhead{BH} &\n",
      "    \\twocolhead{NSS} \\\\\n",
      "%\n",
      "    \\colhead{} & \n",
      "    \\colhead{$D_{KL}$} & \n",
      "    \\colhead{$D_{TV}$} &\n",
      "    \\colhead{$D_{KL}$} & \n",
      "    \\colhead{$D_{TV}$}\n",
      "}\n",
      "\\startdata\n",
      "DD2 &\n",
      "    0.528$^{+0.101}_{-0.068}$ &  % KL for BH\n",
      "    0.324$^{+0.050}_{-0.036}$ &  % TV for BH\n",
      "    0.066$^{+0.058}_{-0.043}$ &  % KL for NSS\n",
      "    0.125$^{+0.045}_{-0.052}$ \\\\ % TV for NSS\n",
      "SFHo &\n",
      "    1.011$^{+0.836}_{-0.270}$ &  % KL for BH\n",
      "    0.523$^{+0.155}_{-0.092}$ &  % TV for BH\n",
      "    0.071$^{+0.081}_{-0.054}$ &  % KL for NSS\n",
      "    0.133$^{+0.060}_{-0.069}$ \\\\ % TV for NSS\n",
      "SFHx &\n",
      "    0.999$^{+1.510}_{-0.312}$ &  % KL for BH\n",
      "    0.519$^{+0.187}_{-0.109}$ &  % TV for BH\n",
      "    0.082$^{+0.098}_{-0.063}$ &  % KL for NSS\n",
      "    0.143$^{+0.066}_{-0.075}$ \\\\ % TV for NSS\n",
      "BHB$\\lambda\\phi$ &\n",
      "    0.729$^{+0.270}_{-0.135}$ &  % KL for BH\n",
      "    0.427$^{+0.089}_{-0.060}$ &  % TV for BH\n",
      "    0.044$^{+0.066}_{-0.033}$ &  % KL for NSS\n",
      "    0.105$^{+0.061}_{-0.064}$ \\\\ % TV for NSS\n",
      "TM1 &\n",
      "    0.752$^{+0.295}_{-0.152}$ &  % KL for BH\n",
      "    0.437$^{+0.093}_{-0.065}$ &  % TV for BH\n",
      "    0.018$^{+0.056}_{-0.016}$ &  % KL for NSS\n",
      "    0.068$^{+0.068}_{-0.050}$ \\\\ % TV for NSS\n",
      "NL3 &\n",
      "    0.808$^{+0.459}_{-0.178}$ &  % KL for BH\n",
      "    0.457$^{+0.121}_{-0.073}$ &  % TV for BH\n",
      "    0.025$^{+0.060}_{-0.023}$ &  % KL for NSS\n",
      "    0.080$^{+0.066}_{-0.062}$ \\\\ % TV for NSS\n",
      "\\enddata\n",
      "%\\tablecomments{\n",
      "%    Note that we exclude from our analysis the BH formed with SFHx due to the small number of simulations with this EoS and outcome.}\n",
      "\\end{deluxetable*}\n",
      "\n"
     ]
    }
   ],
   "source": [
    "print(tablestring)"
   ]
  },
  {
   "cell_type": "code",
   "execution_count": null,
   "metadata": {},
   "outputs": [],
   "source": []
  }
 ],
 "metadata": {
  "kernelspec": {
   "display_name": "Python 3",
   "language": "python",
   "name": "python3"
  },
  "language_info": {
   "codemirror_mode": {
    "name": "ipython",
    "version": 3
   },
   "file_extension": ".py",
   "mimetype": "text/x-python",
   "name": "python",
   "nbconvert_exporter": "python",
   "pygments_lexer": "ipython3",
   "version": "3.8.8"
  }
 },
 "nbformat": 4,
 "nbformat_minor": 4
}
