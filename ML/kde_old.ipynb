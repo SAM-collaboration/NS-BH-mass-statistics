{
 "cells": [
  {
   "cell_type": "code",
   "execution_count": 3,
   "id": "532e7cb7",
   "metadata": {},
   "outputs": [],
   "source": [
    "import numpy as np\n",
    "import pandas as pd\n",
    "from scipy.stats import norm\n",
    "import matplotlib.pyplot as plt\n",
    "from KDEpy import FFTKDE\n",
    "from scipy.special import kl_div\n",
    "from scipy.interpolate import interp1d\n",
    "from scipy.integrate import quad, trapz\n",
    "from scipy import integrate"
   ]
  },
  {
   "cell_type": "code",
   "execution_count": 4,
   "id": "734f0c4c",
   "metadata": {},
   "outputs": [],
   "source": [
    "plt.style.use('tableau-colorblind10')\n",
    "\n",
    "SMALL_SIZE = 8\n",
    "MEDIUM_SIZE = 10\n",
    "BIGGER_SIZE = 16\n",
    "\n",
    "plt.rc('font', size=16)          # controls default text sizes\n",
    "plt.rc('axes', titlesize=16)     # fontsize of the axes title\n",
    "plt.rc('axes', labelsize=16)    # fontsize of the x and y labels\n",
    "plt.rc('xtick', labelsize=BIGGER_SIZE)    # fontsize of the tick labels\n",
    "plt.rc('ytick', labelsize=BIGGER_SIZE)    # fontsize of the tick labels\n",
    "plt.rc('legend', fontsize=BIGGER_SIZE)    # legend fontsize\n",
    "plt.rc('figure', titlesize=BIGGER_SIZE)  # fontsize of the figure title"
   ]
  },
  {
   "cell_type": "code",
   "execution_count": 30,
   "id": "0f19cf33",
   "metadata": {},
   "outputs": [],
   "source": [
    "# path = '../../data/ail_pdr_meta/sneos_meta_reduced_clean.csv'\n",
    "path = '../../data/ail_pdr_meta/sneos_meta_reduced_clean_cold.csv'"
   ]
  },
  {
   "cell_type": "code",
   "execution_count": 31,
   "id": "86b4a403",
   "metadata": {},
   "outputs": [],
   "source": [
    "raw_data = pd.read_csv(path)"
   ]
  },
  {
   "cell_type": "code",
   "execution_count": 32,
   "id": "bbea0b4f",
   "metadata": {},
   "outputs": [
    {
     "data": {
      "text/html": [
       "<div>\n",
       "<style scoped>\n",
       "    .dataframe tbody tr th:only-of-type {\n",
       "        vertical-align: middle;\n",
       "    }\n",
       "\n",
       "    .dataframe tbody tr th {\n",
       "        vertical-align: top;\n",
       "    }\n",
       "\n",
       "    .dataframe thead th {\n",
       "        text-align: right;\n",
       "    }\n",
       "</style>\n",
       "<table border=\"1\" class=\"dataframe\">\n",
       "  <thead>\n",
       "    <tr style=\"text-align: right;\">\n",
       "      <th></th>\n",
       "      <th>EOS int</th>\n",
       "      <th>Mass</th>\n",
       "      <th>M_rem</th>\n",
       "      <th>Outcome Mass Cut</th>\n",
       "    </tr>\n",
       "  </thead>\n",
       "  <tbody>\n",
       "    <tr>\n",
       "      <th>0</th>\n",
       "      <td>0</td>\n",
       "      <td>10.8</td>\n",
       "      <td>1.36478</td>\n",
       "      <td>0</td>\n",
       "    </tr>\n",
       "    <tr>\n",
       "      <th>1</th>\n",
       "      <td>0</td>\n",
       "      <td>11.0</td>\n",
       "      <td>1.28748</td>\n",
       "      <td>0</td>\n",
       "    </tr>\n",
       "    <tr>\n",
       "      <th>2</th>\n",
       "      <td>0</td>\n",
       "      <td>11.2</td>\n",
       "      <td>1.21519</td>\n",
       "      <td>0</td>\n",
       "    </tr>\n",
       "    <tr>\n",
       "      <th>3</th>\n",
       "      <td>0</td>\n",
       "      <td>11.4</td>\n",
       "      <td>1.25311</td>\n",
       "      <td>0</td>\n",
       "    </tr>\n",
       "    <tr>\n",
       "      <th>4</th>\n",
       "      <td>0</td>\n",
       "      <td>11.6</td>\n",
       "      <td>1.25983</td>\n",
       "      <td>0</td>\n",
       "    </tr>\n",
       "    <tr>\n",
       "      <th>...</th>\n",
       "      <td>...</td>\n",
       "      <td>...</td>\n",
       "      <td>...</td>\n",
       "      <td>...</td>\n",
       "    </tr>\n",
       "    <tr>\n",
       "      <th>676</th>\n",
       "      <td>5</td>\n",
       "      <td>26.0</td>\n",
       "      <td>8.29300</td>\n",
       "      <td>1</td>\n",
       "    </tr>\n",
       "    <tr>\n",
       "      <th>677</th>\n",
       "      <td>5</td>\n",
       "      <td>36.0</td>\n",
       "      <td>13.88300</td>\n",
       "      <td>1</td>\n",
       "    </tr>\n",
       "    <tr>\n",
       "      <th>678</th>\n",
       "      <td>5</td>\n",
       "      <td>38.0</td>\n",
       "      <td>15.16200</td>\n",
       "      <td>1</td>\n",
       "    </tr>\n",
       "    <tr>\n",
       "      <th>679</th>\n",
       "      <td>5</td>\n",
       "      <td>40.0</td>\n",
       "      <td>16.51700</td>\n",
       "      <td>1</td>\n",
       "    </tr>\n",
       "    <tr>\n",
       "      <th>680</th>\n",
       "      <td>5</td>\n",
       "      <td>24.0</td>\n",
       "      <td>7.50100</td>\n",
       "      <td>1</td>\n",
       "    </tr>\n",
       "  </tbody>\n",
       "</table>\n",
       "<p>681 rows × 4 columns</p>\n",
       "</div>"
      ],
      "text/plain": [
       "     EOS int  Mass     M_rem  Outcome Mass Cut\n",
       "0          0  10.8   1.36478                 0\n",
       "1          0  11.0   1.28748                 0\n",
       "2          0  11.2   1.21519                 0\n",
       "3          0  11.4   1.25311                 0\n",
       "4          0  11.6   1.25983                 0\n",
       "..       ...   ...       ...               ...\n",
       "676        5  26.0   8.29300                 1\n",
       "677        5  36.0  13.88300                 1\n",
       "678        5  38.0  15.16200                 1\n",
       "679        5  40.0  16.51700                 1\n",
       "680        5  24.0   7.50100                 1\n",
       "\n",
       "[681 rows x 4 columns]"
      ]
     },
     "execution_count": 32,
     "metadata": {},
     "output_type": "execute_result"
    }
   ],
   "source": [
    "raw_data"
   ]
  },
  {
   "cell_type": "code",
   "execution_count": 33,
   "id": "4958d6bd",
   "metadata": {},
   "outputs": [],
   "source": [
    "raw_data.columns = ['EOS', 'ZAMS_mass', 'remnant_mass', 'outcome']"
   ]
  },
  {
   "cell_type": "code",
   "execution_count": 34,
   "id": "82a833df",
   "metadata": {},
   "outputs": [
    {
     "data": {
      "text/plain": [
       "0    508\n",
       "1    173\n",
       "Name: outcome, dtype: int64"
      ]
     },
     "execution_count": 34,
     "metadata": {},
     "output_type": "execute_result"
    }
   ],
   "source": [
    "raw_data['outcome'].value_counts()"
   ]
  },
  {
   "cell_type": "code",
   "execution_count": 35,
   "id": "89aaa5d7",
   "metadata": {
    "scrolled": true
   },
   "outputs": [
    {
     "data": {
      "text/plain": [
       "0    179\n",
       "4    109\n",
       "3    104\n",
       "1    101\n",
       "5    101\n",
       "2     87\n",
       "Name: EOS, dtype: int64"
      ]
     },
     "execution_count": 35,
     "metadata": {},
     "output_type": "execute_result"
    }
   ],
   "source": [
    "raw_data['EOS'].value_counts()"
   ]
  },
  {
   "cell_type": "code",
   "execution_count": 36,
   "id": "b3dbae0d",
   "metadata": {},
   "outputs": [],
   "source": [
    "state_names = [\"DD2\", \"SFHo\", \"SFHx\", \"BHBlp\", \"TM1\", \"NL3\"]"
   ]
  },
  {
   "cell_type": "code",
   "execution_count": 37,
   "id": "f47eb4cf",
   "metadata": {},
   "outputs": [
    {
     "name": "stdout",
     "output_type": "stream",
     "text": [
      "Unique EOS: [0, 1, 2, 3, 4, 5]\n"
     ]
    }
   ],
   "source": [
    "states = sorted(raw_data['EOS'].unique())\n",
    "print(f\"Unique EOS: {states}\")"
   ]
  },
  {
   "cell_type": "code",
   "execution_count": 38,
   "id": "503c752e",
   "metadata": {},
   "outputs": [
    {
     "data": {
      "text/plain": [
       "0    179\n",
       "4    109\n",
       "3    104\n",
       "1    101\n",
       "5    101\n",
       "2     87\n",
       "Name: EOS, dtype: int64"
      ]
     },
     "execution_count": 38,
     "metadata": {},
     "output_type": "execute_result"
    }
   ],
   "source": [
    "raw_data['EOS'].value_counts()"
   ]
  },
  {
   "cell_type": "code",
   "execution_count": 39,
   "id": "f3d99372",
   "metadata": {},
   "outputs": [],
   "source": [
    "def compute_noise(data):\n",
    "    data['noise'] = 0\n",
    "    sigma_bh = 0.120213 * data['remnant_mass'] + 0.355936\n",
    "    sigma_ns = 0.1\n",
    "        \n",
    "    # Compute neutron star noise\n",
    "    ns_mask = (data['outcome'] == 0)\n",
    "    ns = data[ns_mask]\n",
    "    data.loc[ns_mask, 'noise'] = pd.Series(np.random.normal(0, sigma_ns, len(ns_mask)))\n",
    "    \n",
    "    # Compute black hole noise\n",
    "    bh_mask = (data['outcome'] != 0)\n",
    "    bh = data[bh_mask]\n",
    "    data.loc[bh_mask, 'noise'] = pd.Series(np.random.normal(0, sigma_bh, len(bh_mask)))\n",
    "    \n",
    "    data['remnant_mass_noisy'] = data['remnant_mass'] + data['noise']\n",
    "    data.loc[data['remnant_mass_noisy'] < 0, 'remnant_mass_noisy'] = 10e-2\n",
    "    \n",
    "    return data"
   ]
  },
  {
   "cell_type": "code",
   "execution_count": 40,
   "id": "a492460c",
   "metadata": {},
   "outputs": [],
   "source": [
    "def compute_weights(data):\n",
    "    m = data['ZAMS_mass'].to_numpy()\n",
    "    condlist = [m < 0.5, np.logical_and(0.5 <= m, m < 1.0), m >= 1.0]\n",
    "    funclist = [lambda m: 0.035 * pow(m, -1.3),\\\n",
    "                lambda m: 0.019 * pow(m, -2.2),\\\n",
    "                lambda m: 0.019 * pow(m, -2.7)]\n",
    "    return np.piecewise(m, condlist, funclist)"
   ]
  },
  {
   "cell_type": "code",
   "execution_count": 41,
   "id": "085c8229",
   "metadata": {},
   "outputs": [],
   "source": [
    "mmin = 6.8 # -2.8 + 1.7\n",
    "alpha = 7.1 # -3.3 + 3.8\n",
    "mu = 29.8 # -7.3 + 5.8\n",
    "sigma = 6.4 # -4.2 + 3.2\n",
    "l = 0.3 # - 0.2 + 0.4\n",
    "dm = 3 # might be larger?\n",
    "mmax = 75 # ???\n",
    "\n",
    "def S(m, m_min, dm):\n",
    "    out = (m - m_min) / dm\n",
    "    out[m < m_min] = 0\n",
    "    out[m > m_min + dm] = 1\n",
    "    return out\n",
    "\n",
    "def power_law(m, mmax, alpha):\n",
    "    return m**(-alpha)\n",
    "\n",
    "def gaussian(m, mu, sigma):\n",
    "    return np.exp(-(m-mu)**2/(2*sigma**2))/(sigma*np.sqrt(2*np.pi))\n",
    "\n",
    "def p_bh(m, l, alpha, mmax, mu, sigma, mmin, dm):\n",
    "    out = np.zeros_like(m)\n",
    "    \n",
    "    inv_A = integrate.quad(lambda m: power_law(m, mmax, alpha), mmin, mmax)[0]\n",
    "    out += (1-l)*(1./inv_A)*power_law(m, mmax, alpha)\n",
    "    out[m > mmax] = 0\n",
    "    out[m <= 10e-2] = 0\n",
    "    \n",
    "    out += l*gaussian(m, mu, sigma) * 0 # to remove second bump\n",
    "  \n",
    "    out *= S(m, mmin, dm)\n",
    "\n",
    "    norm_factor = integrate.trapz(out, x=m)\n",
    "    out /= norm_factor\n",
    "\n",
    "    return out"
   ]
  },
  {
   "cell_type": "code",
   "execution_count": 81,
   "id": "2b48f52f",
   "metadata": {},
   "outputs": [],
   "source": [
    "band = 0.2\n",
    "\n",
    "def p_nsd(grid):\n",
    "    p_y = (1 / (np.sqrt(2 * np.pi * pow(0.09, 2))) *\n",
    "           np.exp((-pow(grid - 1.33, 2)) / (2 * pow(0.09, 2))))\n",
    "    return p_y\n",
    "\n",
    "def p_nsi(grid):\n",
    "    p_y = (1 / (np.sqrt(2 * np.pi * pow(0.219689, 2))) * \n",
    "           np.exp((-pow(grid - 1.54, 2)) / (2 * pow(0.219689, 2))))\n",
    "    return p_y\n",
    "\n",
    "def q(data, grid):\n",
    "    kde = FFTKDE(bw=band).fit(data['remnant_mass_noisy'].to_numpy(),\n",
    "                              weights=data['weights'].to_numpy())\n",
    "    y = kde.evaluate(grid)\n",
    "    return y\n",
    "\n",
    "def kl_div(data, grid, bh_flag):\n",
    "    if bh_flag:\n",
    "        p_y = p_bh(grid, l, alpha, mmax, mu, sigma, mmin, dm)\n",
    "    else:\n",
    "        if ns_double:\n",
    "            p_y = p_nsd(grid)\n",
    "        else:\n",
    "            p_y = p_nsi(grid)\n",
    "            \n",
    "    q_y = q(data, grid)\n",
    "    norm_p = trapz(p_y, x=grid)\n",
    "    p_y /= norm_p\n",
    "    flr = max([10 ** -13, min(p_y), min(q_y)])\n",
    "    p_y[p_y < flr] = flr\n",
    "    q_y[q_y < flr] = flr\n",
    "    return p_y, q_y, p_y * np.log2(p_y / q_y)\n",
    "\n",
    "def tv_dist(data, grid, bh_flag):\n",
    "    if bh_flag:\n",
    "        p_y, q_y = p_bh(grid, l, alpha, mmax, mu, sigma, mmin, dm), q(data, grid)\n",
    "        norm_p = trapz(p_y, x=grid)\n",
    "        p_y /= norm_p\n",
    "        return abs(p_y - q_y)\n",
    "    else:\n",
    "        if ns_double:\n",
    "            p_y, q_y = p_nsd(grid), q(data, grid)\n",
    "            norm_p = trapz(p_y, x=grid)\n",
    "            p_y /= norm_p\n",
    "            return abs(p_y - q_y)\n",
    "        else:\n",
    "            p_y, q_y = p_nsi(grid), q(data, grid)\n",
    "            norm_p = trapz(p_y, x=grid)\n",
    "            p_y /= norm_p\n",
    "            return abs(p_y - q_y)"
   ]
  },
  {
   "cell_type": "markdown",
   "id": "35693383",
   "metadata": {},
   "source": [
    "## Run"
   ]
  },
  {
   "cell_type": "code",
   "execution_count": 88,
   "id": "e14f7710",
   "metadata": {},
   "outputs": [],
   "source": [
    "black_holes = False\n",
    "ns_double = False"
   ]
  },
  {
   "cell_type": "code",
   "execution_count": 89,
   "id": "51de3d8b",
   "metadata": {},
   "outputs": [],
   "source": [
    "# Grid of inputs\n",
    "grid = np.linspace(10e-12, 50, num=2**15)"
   ]
  },
  {
   "cell_type": "code",
   "execution_count": 90,
   "id": "a43f1b12",
   "metadata": {},
   "outputs": [],
   "source": [
    "# Split into states\n",
    "states_data = []\n",
    "states_data_clean = []\n",
    "\n",
    "for state in states:\n",
    "    states_data.append(raw_data[raw_data['EOS'] == state].reset_index())"
   ]
  },
  {
   "cell_type": "code",
   "execution_count": 91,
   "id": "78ae1bdc",
   "metadata": {
    "scrolled": false
   },
   "outputs": [],
   "source": [
    "# Compute noise\n",
    "for i, sd in enumerate(states_data):\n",
    "#     sample = sd.sample(frac=1.0, replace=True, ignore_index=True)\n",
    "    sample = pd.concat([sd] * 1000, ignore_index=True)\n",
    "    sample_2 = compute_noise(sample.copy())\n",
    "    sample_2['weights'] = compute_weights(sample_2.copy())\n",
    "    states_data_clean.append(sample_2)"
   ]
  },
  {
   "cell_type": "code",
   "execution_count": 92,
   "id": "a23a2926",
   "metadata": {
    "scrolled": false
   },
   "outputs": [
    {
     "name": "stdout",
     "output_type": "stream",
     "text": [
      "- KL Divergence for EOS 0: 0.15713879458616758\n",
      "- Total Variation for EOS 0: 0.18988732759540158\n",
      "\n",
      "- KL Divergence for EOS 1: 0.16152059155899431\n",
      "- Total Variation for EOS 1: 0.1938632429519977\n",
      "\n",
      "- KL Divergence for EOS 2: 0.17722557786235127\n",
      "- Total Variation for EOS 2: 0.2037598598571471\n",
      "\n",
      "- KL Divergence for EOS 3: 0.12645826070882507\n",
      "- Total Variation for EOS 3: 0.17028090704956883\n",
      "\n",
      "- KL Divergence for EOS 4: 0.09711825538684705\n",
      "- Total Variation for EOS 4: 0.14704037444958581\n",
      "\n",
      "- KL Divergence for EOS 5: 0.10623473106329535\n",
      "- Total Variation for EOS 5: 0.15425053302268926\n",
      "\n"
     ]
    }
   ],
   "source": [
    "# Compute all metrics\n",
    "ps, qs = [], []\n",
    "\n",
    "for state, data in enumerate(states_data_clean):\n",
    "        \n",
    "    target = data[data['outcome'] == 0]\n",
    "    p_y, q_y, kl_val = kl_div(target, grid, black_holes)\n",
    "    d_kl = trapz(kl_val, x=grid)\n",
    "    print(f\"- KL Divergence for EOS {state}: {d_kl}\")\n",
    "\n",
    "    tv_val = tv_dist(target, grid, black_holes)\n",
    "    d_tv = 0.5 * trapz(tv_val, x=grid)\n",
    "    print(f\"- Total Variation for EOS {state}: {d_tv}\\n\")\n",
    "    \n",
    "    ps.append(p_y)\n",
    "    qs.append(q_y)"
   ]
  },
  {
   "cell_type": "code",
   "execution_count": 87,
   "id": "4983f69b",
   "metadata": {},
   "outputs": [],
   "source": [
    "ns_dash = ps[0]"
   ]
  },
  {
   "cell_type": "code",
   "execution_count": null,
   "id": "6065a440",
   "metadata": {},
   "outputs": [],
   "source": [
    "# Obs plots\n",
    "plt.figure(figsize=(10, 8))\n",
    "\n",
    "for i in range(len(qs)):\n",
    "    plt.plot(grid, qs[i], lw=3, label=f\"{state_names[i]}\") #in color\n",
    "\n",
    "plt.plot(grid, ps[0], lw=3, linestyle='--', c=\"black\", label=\"Isolated NS\") #black\n",
    "plt.plot(grid, ns_dash, lw=3, linestyle=':', c=\"black\", label=\"Double NS\")\n",
    "\n",
    "# plt.title(f\"Observered Posterior with Bandwidth {band}\")\n",
    "plt.xlim(0.75, 2.5)\n",
    "plt.xlabel(r\"Remnant Mass ($M_{\\odot}$)\")\n",
    "plt.ylabel(r\"Probability Density ($M_{\\odot}^{-1}$)\")\n",
    "plt.tight_layout(); plt.legend(loc='best')\n",
    "plt.savefig(f'../vis/w_kde_{band}.png', dpi=500)"
   ]
  },
  {
   "cell_type": "code",
   "execution_count": 105,
   "id": "b0313847",
   "metadata": {},
   "outputs": [
    {
     "data": {
      "image/png": "[encoded data removed]",
      "text/plain": [
       "<Figure size 720x576 with 1 Axes>"
      ]
     },
     "metadata": {
      "needs_background": "light"
     },
     "output_type": "display_data"
    }
   ],
   "source": [
    "# Obs plots\n",
    "plt.figure(figsize=(10, 8))\n",
    "\n",
    "for i in range(len(qs)):\n",
    "    plt.plot(grid, qs[i], lw=3, label=f\"State: {i}\") #in color\n",
    "\n",
    "plt.plot(grid, ps[0], lw=3, linestyle='--', label=\"Real PD\") #black\n",
    "\n",
    "plt.title(f\"Observered Posterior with Bandwidth {band}\")\n",
    "# plt.xlim(0, 3)\n",
    "plt.xlabel(r\"Remnant Mass ($M_{\\odot}$)\")\n",
    "plt.ylabel(r\"Probability Density ($M_{\\odot}^{-1}$)\")\n",
    "plt.tight_layout(); plt.legend(loc='best')\n",
    "plt.savefig(f'../vis/w_kde_{band}.png', dpi=350)"
   ]
  },
  {
   "cell_type": "code",
   "execution_count": 97,
   "id": "c2239126",
   "metadata": {},
   "outputs": [
    {
     "ename": "KeyError",
     "evalue": "'remnant_mass_noisy'",
     "output_type": "error",
     "traceback": [
      "\u001b[0;31m---------------------------------------------------------------------------\u001b[0m",
      "\u001b[0;31mKeyError\u001b[0m                                  Traceback (most recent call last)",
      "\u001b[0;32m~/opt/anaconda3/envs/dl/lib/python3.9/site-packages/pandas/core/indexes/base.py\u001b[0m in \u001b[0;36mget_loc\u001b[0;34m(self, key, method, tolerance)\u001b[0m\n\u001b[1;32m   3360\u001b[0m             \u001b[0;32mtry\u001b[0m\u001b[0;34m:\u001b[0m\u001b[0;34m\u001b[0m\u001b[0;34m\u001b[0m\u001b[0m\n\u001b[0;32m-> 3361\u001b[0;31m                 \u001b[0;32mreturn\u001b[0m \u001b[0mself\u001b[0m\u001b[0;34m.\u001b[0m\u001b[0m_engine\u001b[0m\u001b[0;34m.\u001b[0m\u001b[0mget_loc\u001b[0m\u001b[0;34m(\u001b[0m\u001b[0mcasted_key\u001b[0m\u001b[0;34m)\u001b[0m\u001b[0;34m\u001b[0m\u001b[0;34m\u001b[0m\u001b[0m\n\u001b[0m\u001b[1;32m   3362\u001b[0m             \u001b[0;32mexcept\u001b[0m \u001b[0mKeyError\u001b[0m \u001b[0;32mas\u001b[0m \u001b[0merr\u001b[0m\u001b[0;34m:\u001b[0m\u001b[0;34m\u001b[0m\u001b[0;34m\u001b[0m\u001b[0m\n",
      "\u001b[0;32m~/opt/anaconda3/envs/dl/lib/python3.9/site-packages/pandas/_libs/index.pyx\u001b[0m in \u001b[0;36mpandas._libs.index.IndexEngine.get_loc\u001b[0;34m()\u001b[0m\n",
      "\u001b[0;32m~/opt/anaconda3/envs/dl/lib/python3.9/site-packages/pandas/_libs/index.pyx\u001b[0m in \u001b[0;36mpandas._libs.index.IndexEngine.get_loc\u001b[0;34m()\u001b[0m\n",
      "\u001b[0;32mpandas/_libs/hashtable_class_helper.pxi\u001b[0m in \u001b[0;36mpandas._libs.hashtable.PyObjectHashTable.get_item\u001b[0;34m()\u001b[0m\n",
      "\u001b[0;32mpandas/_libs/hashtable_class_helper.pxi\u001b[0m in \u001b[0;36mpandas._libs.hashtable.PyObjectHashTable.get_item\u001b[0;34m()\u001b[0m\n",
      "\u001b[0;31mKeyError\u001b[0m: 'remnant_mass_noisy'",
      "\nThe above exception was the direct cause of the following exception:\n",
      "\u001b[0;31mKeyError\u001b[0m                                  Traceback (most recent call last)",
      "\u001b[0;32m/var/folders/cx/40zppx3j5qg5gfg4d_vzcwnr0000gn/T/ipykernel_8739/3800412375.py\u001b[0m in \u001b[0;36m<module>\u001b[0;34m\u001b[0m\n\u001b[1;32m      3\u001b[0m \u001b[0;32mfor\u001b[0m \u001b[0mstate\u001b[0m \u001b[0;32min\u001b[0m \u001b[0mrange\u001b[0m\u001b[0;34m(\u001b[0m\u001b[0;36m0\u001b[0m\u001b[0;34m,\u001b[0m \u001b[0;36m6\u001b[0m\u001b[0;34m)\u001b[0m\u001b[0;34m:\u001b[0m\u001b[0;34m\u001b[0m\u001b[0;34m\u001b[0m\u001b[0m\n\u001b[1;32m      4\u001b[0m     \u001b[0mdata\u001b[0m \u001b[0;34m=\u001b[0m \u001b[0mstates_data\u001b[0m\u001b[0;34m[\u001b[0m\u001b[0mstate\u001b[0m\u001b[0;34m]\u001b[0m\u001b[0;34m\u001b[0m\u001b[0;34m\u001b[0m\u001b[0m\n\u001b[0;32m----> 5\u001b[0;31m     \u001b[0mtarget\u001b[0m \u001b[0;34m=\u001b[0m \u001b[0mdata\u001b[0m\u001b[0;34m[\u001b[0m\u001b[0;34m'remnant_mass_noisy'\u001b[0m\u001b[0;34m]\u001b[0m\u001b[0;34m.\u001b[0m\u001b[0mto_numpy\u001b[0m\u001b[0;34m(\u001b[0m\u001b[0;34m)\u001b[0m\u001b[0;34m\u001b[0m\u001b[0;34m\u001b[0m\u001b[0m\n\u001b[0m\u001b[1;32m      6\u001b[0m     \u001b[0mx\u001b[0m\u001b[0;34m,\u001b[0m \u001b[0my\u001b[0m \u001b[0;34m=\u001b[0m \u001b[0mFFTKDE\u001b[0m\u001b[0;34m(\u001b[0m\u001b[0mbw\u001b[0m\u001b[0;34m=\u001b[0m\u001b[0;34m'silverman'\u001b[0m\u001b[0;34m)\u001b[0m\u001b[0;34m.\u001b[0m\u001b[0mfit\u001b[0m\u001b[0;34m(\u001b[0m\u001b[0mtarget\u001b[0m\u001b[0;34m)\u001b[0m\u001b[0;34m.\u001b[0m\u001b[0mevaluate\u001b[0m\u001b[0;34m(\u001b[0m\u001b[0;34m)\u001b[0m\u001b[0;34m\u001b[0m\u001b[0;34m\u001b[0m\u001b[0m\n\u001b[1;32m      7\u001b[0m     \u001b[0mplt\u001b[0m\u001b[0;34m.\u001b[0m\u001b[0mplot\u001b[0m\u001b[0;34m(\u001b[0m\u001b[0mx\u001b[0m\u001b[0;34m,\u001b[0m \u001b[0my\u001b[0m\u001b[0;34m,\u001b[0m \u001b[0mlabel\u001b[0m\u001b[0;34m=\u001b[0m\u001b[0;34mf\"State {state}: {state_names[state]}\"\u001b[0m\u001b[0;34m,\u001b[0m \u001b[0mlw\u001b[0m\u001b[0;34m=\u001b[0m\u001b[0;36m3\u001b[0m\u001b[0;34m)\u001b[0m\u001b[0;34m\u001b[0m\u001b[0;34m\u001b[0m\u001b[0m\n",
      "\u001b[0;32m~/opt/anaconda3/envs/dl/lib/python3.9/site-packages/pandas/core/frame.py\u001b[0m in \u001b[0;36m__getitem__\u001b[0;34m(self, key)\u001b[0m\n\u001b[1;32m   3456\u001b[0m             \u001b[0;32mif\u001b[0m \u001b[0mself\u001b[0m\u001b[0;34m.\u001b[0m\u001b[0mcolumns\u001b[0m\u001b[0;34m.\u001b[0m\u001b[0mnlevels\u001b[0m \u001b[0;34m>\u001b[0m \u001b[0;36m1\u001b[0m\u001b[0;34m:\u001b[0m\u001b[0;34m\u001b[0m\u001b[0;34m\u001b[0m\u001b[0m\n\u001b[1;32m   3457\u001b[0m                 \u001b[0;32mreturn\u001b[0m \u001b[0mself\u001b[0m\u001b[0;34m.\u001b[0m\u001b[0m_getitem_multilevel\u001b[0m\u001b[0;34m(\u001b[0m\u001b[0mkey\u001b[0m\u001b[0;34m)\u001b[0m\u001b[0;34m\u001b[0m\u001b[0;34m\u001b[0m\u001b[0m\n\u001b[0;32m-> 3458\u001b[0;31m             \u001b[0mindexer\u001b[0m \u001b[0;34m=\u001b[0m \u001b[0mself\u001b[0m\u001b[0;34m.\u001b[0m\u001b[0mcolumns\u001b[0m\u001b[0;34m.\u001b[0m\u001b[0mget_loc\u001b[0m\u001b[0;34m(\u001b[0m\u001b[0mkey\u001b[0m\u001b[0;34m)\u001b[0m\u001b[0;34m\u001b[0m\u001b[0;34m\u001b[0m\u001b[0m\n\u001b[0m\u001b[1;32m   3459\u001b[0m             \u001b[0;32mif\u001b[0m \u001b[0mis_integer\u001b[0m\u001b[0;34m(\u001b[0m\u001b[0mindexer\u001b[0m\u001b[0;34m)\u001b[0m\u001b[0;34m:\u001b[0m\u001b[0;34m\u001b[0m\u001b[0;34m\u001b[0m\u001b[0m\n\u001b[1;32m   3460\u001b[0m                 \u001b[0mindexer\u001b[0m \u001b[0;34m=\u001b[0m \u001b[0;34m[\u001b[0m\u001b[0mindexer\u001b[0m\u001b[0;34m]\u001b[0m\u001b[0;34m\u001b[0m\u001b[0;34m\u001b[0m\u001b[0m\n",
      "\u001b[0;32m~/opt/anaconda3/envs/dl/lib/python3.9/site-packages/pandas/core/indexes/base.py\u001b[0m in \u001b[0;36mget_loc\u001b[0;34m(self, key, method, tolerance)\u001b[0m\n\u001b[1;32m   3361\u001b[0m                 \u001b[0;32mreturn\u001b[0m \u001b[0mself\u001b[0m\u001b[0;34m.\u001b[0m\u001b[0m_engine\u001b[0m\u001b[0;34m.\u001b[0m\u001b[0mget_loc\u001b[0m\u001b[0;34m(\u001b[0m\u001b[0mcasted_key\u001b[0m\u001b[0;34m)\u001b[0m\u001b[0;34m\u001b[0m\u001b[0;34m\u001b[0m\u001b[0m\n\u001b[1;32m   3362\u001b[0m             \u001b[0;32mexcept\u001b[0m \u001b[0mKeyError\u001b[0m \u001b[0;32mas\u001b[0m \u001b[0merr\u001b[0m\u001b[0;34m:\u001b[0m\u001b[0;34m\u001b[0m\u001b[0;34m\u001b[0m\u001b[0m\n\u001b[0;32m-> 3363\u001b[0;31m                 \u001b[0;32mraise\u001b[0m \u001b[0mKeyError\u001b[0m\u001b[0;34m(\u001b[0m\u001b[0mkey\u001b[0m\u001b[0;34m)\u001b[0m \u001b[0;32mfrom\u001b[0m \u001b[0merr\u001b[0m\u001b[0;34m\u001b[0m\u001b[0;34m\u001b[0m\u001b[0m\n\u001b[0m\u001b[1;32m   3364\u001b[0m \u001b[0;34m\u001b[0m\u001b[0m\n\u001b[1;32m   3365\u001b[0m         \u001b[0;32mif\u001b[0m \u001b[0mis_scalar\u001b[0m\u001b[0;34m(\u001b[0m\u001b[0mkey\u001b[0m\u001b[0;34m)\u001b[0m \u001b[0;32mand\u001b[0m \u001b[0misna\u001b[0m\u001b[0;34m(\u001b[0m\u001b[0mkey\u001b[0m\u001b[0;34m)\u001b[0m \u001b[0;32mand\u001b[0m \u001b[0;32mnot\u001b[0m \u001b[0mself\u001b[0m\u001b[0;34m.\u001b[0m\u001b[0mhasnans\u001b[0m\u001b[0;34m:\u001b[0m\u001b[0;34m\u001b[0m\u001b[0;34m\u001b[0m\u001b[0m\n",
      "\u001b[0;31mKeyError\u001b[0m: 'remnant_mass_noisy'"
     ]
    },
    {
     "data": {
      "text/plain": [
       "<Figure size 720x576 with 0 Axes>"
      ]
     },
     "metadata": {},
     "output_type": "display_data"
    }
   ],
   "source": [
    "plt.figure(figsize=(10,8))\n",
    "\n",
    "for state in range(0, 6):\n",
    "    data = states_data[state]\n",
    "    target = data['remnant_mass_noisy'].to_numpy()\n",
    "    x, y = FFTKDE(bw='silverman').fit(target).evaluate()\n",
    "    plt.plot(x, y, label=f\"State {state}: {state_names[state]}\", lw=3)\n",
    "\n",
    "plt.xlim(0, max(x))\n",
    "plt.title('Unweighted KDEs')\n",
    "plt.xlabel(r\"Remnant Mass ($M_{\\odot}$)\")\n",
    "plt.ylabel(r\"Probability Density ($M_{\\odot}^{-1}$)\")\n",
    "plt.tight_layout(); plt.legend(loc='best')\n",
    "plt.savefig('uw_kde.png', dpi=350)"
   ]
  },
  {
   "cell_type": "code",
   "execution_count": 98,
   "id": "4e7cd7d0",
   "metadata": {},
   "outputs": [
    {
     "ename": "KeyError",
     "evalue": "'remnant_mass_noisy'",
     "output_type": "error",
     "traceback": [
      "\u001b[0;31m---------------------------------------------------------------------------\u001b[0m",
      "\u001b[0;31mKeyError\u001b[0m                                  Traceback (most recent call last)",
      "\u001b[0;32m~/opt/anaconda3/envs/dl/lib/python3.9/site-packages/pandas/core/indexes/base.py\u001b[0m in \u001b[0;36mget_loc\u001b[0;34m(self, key, method, tolerance)\u001b[0m\n\u001b[1;32m   3360\u001b[0m             \u001b[0;32mtry\u001b[0m\u001b[0;34m:\u001b[0m\u001b[0;34m\u001b[0m\u001b[0;34m\u001b[0m\u001b[0m\n\u001b[0;32m-> 3361\u001b[0;31m                 \u001b[0;32mreturn\u001b[0m \u001b[0mself\u001b[0m\u001b[0;34m.\u001b[0m\u001b[0m_engine\u001b[0m\u001b[0;34m.\u001b[0m\u001b[0mget_loc\u001b[0m\u001b[0;34m(\u001b[0m\u001b[0mcasted_key\u001b[0m\u001b[0;34m)\u001b[0m\u001b[0;34m\u001b[0m\u001b[0;34m\u001b[0m\u001b[0m\n\u001b[0m\u001b[1;32m   3362\u001b[0m             \u001b[0;32mexcept\u001b[0m \u001b[0mKeyError\u001b[0m \u001b[0;32mas\u001b[0m \u001b[0merr\u001b[0m\u001b[0;34m:\u001b[0m\u001b[0;34m\u001b[0m\u001b[0;34m\u001b[0m\u001b[0m\n",
      "\u001b[0;32m~/opt/anaconda3/envs/dl/lib/python3.9/site-packages/pandas/_libs/index.pyx\u001b[0m in \u001b[0;36mpandas._libs.index.IndexEngine.get_loc\u001b[0;34m()\u001b[0m\n",
      "\u001b[0;32m~/opt/anaconda3/envs/dl/lib/python3.9/site-packages/pandas/_libs/index.pyx\u001b[0m in \u001b[0;36mpandas._libs.index.IndexEngine.get_loc\u001b[0;34m()\u001b[0m\n",
      "\u001b[0;32mpandas/_libs/hashtable_class_helper.pxi\u001b[0m in \u001b[0;36mpandas._libs.hashtable.PyObjectHashTable.get_item\u001b[0;34m()\u001b[0m\n",
      "\u001b[0;32mpandas/_libs/hashtable_class_helper.pxi\u001b[0m in \u001b[0;36mpandas._libs.hashtable.PyObjectHashTable.get_item\u001b[0;34m()\u001b[0m\n",
      "\u001b[0;31mKeyError\u001b[0m: 'remnant_mass_noisy'",
      "\nThe above exception was the direct cause of the following exception:\n",
      "\u001b[0;31mKeyError\u001b[0m                                  Traceback (most recent call last)",
      "\u001b[0;32m/var/folders/cx/40zppx3j5qg5gfg4d_vzcwnr0000gn/T/ipykernel_8739/3859602544.py\u001b[0m in \u001b[0;36m<module>\u001b[0;34m\u001b[0m\n\u001b[1;32m      4\u001b[0m     \u001b[0mdata\u001b[0m \u001b[0;34m=\u001b[0m \u001b[0mstates_data\u001b[0m\u001b[0;34m[\u001b[0m\u001b[0mstate\u001b[0m\u001b[0;34m]\u001b[0m\u001b[0;34m\u001b[0m\u001b[0;34m\u001b[0m\u001b[0m\n\u001b[1;32m      5\u001b[0m     \u001b[0mns_data\u001b[0m \u001b[0;34m=\u001b[0m \u001b[0mdata\u001b[0m\u001b[0;34m[\u001b[0m\u001b[0mdata\u001b[0m\u001b[0;34m[\u001b[0m\u001b[0;34m'outcome'\u001b[0m\u001b[0;34m]\u001b[0m \u001b[0;34m==\u001b[0m \u001b[0;36m0\u001b[0m\u001b[0;34m]\u001b[0m\u001b[0;34m\u001b[0m\u001b[0;34m\u001b[0m\u001b[0m\n\u001b[0;32m----> 6\u001b[0;31m     \u001b[0mtarget\u001b[0m \u001b[0;34m=\u001b[0m \u001b[0mns_data\u001b[0m\u001b[0;34m[\u001b[0m\u001b[0;34m'remnant_mass_noisy'\u001b[0m\u001b[0;34m]\u001b[0m\u001b[0;34m.\u001b[0m\u001b[0mto_numpy\u001b[0m\u001b[0;34m(\u001b[0m\u001b[0;34m)\u001b[0m\u001b[0;34m\u001b[0m\u001b[0;34m\u001b[0m\u001b[0m\n\u001b[0m\u001b[1;32m      7\u001b[0m     \u001b[0mx\u001b[0m\u001b[0;34m,\u001b[0m \u001b[0my\u001b[0m \u001b[0;34m=\u001b[0m \u001b[0mFFTKDE\u001b[0m\u001b[0;34m(\u001b[0m\u001b[0mbw\u001b[0m\u001b[0;34m=\u001b[0m\u001b[0;34m'ISJ'\u001b[0m\u001b[0;34m)\u001b[0m\u001b[0;34m.\u001b[0m\u001b[0mfit\u001b[0m\u001b[0;34m(\u001b[0m\u001b[0mtarget\u001b[0m\u001b[0;34m,\u001b[0m \u001b[0mweights\u001b[0m\u001b[0;34m=\u001b[0m\u001b[0mns_data\u001b[0m\u001b[0;34m[\u001b[0m\u001b[0;34m'weights'\u001b[0m\u001b[0;34m]\u001b[0m\u001b[0;34m.\u001b[0m\u001b[0mto_numpy\u001b[0m\u001b[0;34m(\u001b[0m\u001b[0;34m)\u001b[0m\u001b[0;34m)\u001b[0m\u001b[0;34m.\u001b[0m\u001b[0mevaluate\u001b[0m\u001b[0;34m(\u001b[0m\u001b[0;34m)\u001b[0m\u001b[0;34m\u001b[0m\u001b[0;34m\u001b[0m\u001b[0m\n\u001b[1;32m      8\u001b[0m     \u001b[0mplt\u001b[0m\u001b[0;34m.\u001b[0m\u001b[0mplot\u001b[0m\u001b[0;34m(\u001b[0m\u001b[0mx\u001b[0m\u001b[0;34m,\u001b[0m \u001b[0my\u001b[0m\u001b[0;34m,\u001b[0m \u001b[0mlabel\u001b[0m\u001b[0;34m=\u001b[0m\u001b[0;34mf\"State {state}: {state_names[state]}\"\u001b[0m\u001b[0;34m,\u001b[0m \u001b[0mlw\u001b[0m\u001b[0;34m=\u001b[0m\u001b[0;36m3\u001b[0m\u001b[0;34m)\u001b[0m\u001b[0;34m\u001b[0m\u001b[0;34m\u001b[0m\u001b[0m\n",
      "\u001b[0;32m~/opt/anaconda3/envs/dl/lib/python3.9/site-packages/pandas/core/frame.py\u001b[0m in \u001b[0;36m__getitem__\u001b[0;34m(self, key)\u001b[0m\n\u001b[1;32m   3456\u001b[0m             \u001b[0;32mif\u001b[0m \u001b[0mself\u001b[0m\u001b[0;34m.\u001b[0m\u001b[0mcolumns\u001b[0m\u001b[0;34m.\u001b[0m\u001b[0mnlevels\u001b[0m \u001b[0;34m>\u001b[0m \u001b[0;36m1\u001b[0m\u001b[0;34m:\u001b[0m\u001b[0;34m\u001b[0m\u001b[0;34m\u001b[0m\u001b[0m\n\u001b[1;32m   3457\u001b[0m                 \u001b[0;32mreturn\u001b[0m \u001b[0mself\u001b[0m\u001b[0;34m.\u001b[0m\u001b[0m_getitem_multilevel\u001b[0m\u001b[0;34m(\u001b[0m\u001b[0mkey\u001b[0m\u001b[0;34m)\u001b[0m\u001b[0;34m\u001b[0m\u001b[0;34m\u001b[0m\u001b[0m\n\u001b[0;32m-> 3458\u001b[0;31m             \u001b[0mindexer\u001b[0m \u001b[0;34m=\u001b[0m \u001b[0mself\u001b[0m\u001b[0;34m.\u001b[0m\u001b[0mcolumns\u001b[0m\u001b[0;34m.\u001b[0m\u001b[0mget_loc\u001b[0m\u001b[0;34m(\u001b[0m\u001b[0mkey\u001b[0m\u001b[0;34m)\u001b[0m\u001b[0;34m\u001b[0m\u001b[0;34m\u001b[0m\u001b[0m\n\u001b[0m\u001b[1;32m   3459\u001b[0m             \u001b[0;32mif\u001b[0m \u001b[0mis_integer\u001b[0m\u001b[0;34m(\u001b[0m\u001b[0mindexer\u001b[0m\u001b[0;34m)\u001b[0m\u001b[0;34m:\u001b[0m\u001b[0;34m\u001b[0m\u001b[0;34m\u001b[0m\u001b[0m\n\u001b[1;32m   3460\u001b[0m                 \u001b[0mindexer\u001b[0m \u001b[0;34m=\u001b[0m \u001b[0;34m[\u001b[0m\u001b[0mindexer\u001b[0m\u001b[0;34m]\u001b[0m\u001b[0;34m\u001b[0m\u001b[0;34m\u001b[0m\u001b[0m\n",
      "\u001b[0;32m~/opt/anaconda3/envs/dl/lib/python3.9/site-packages/pandas/core/indexes/base.py\u001b[0m in \u001b[0;36mget_loc\u001b[0;34m(self, key, method, tolerance)\u001b[0m\n\u001b[1;32m   3361\u001b[0m                 \u001b[0;32mreturn\u001b[0m \u001b[0mself\u001b[0m\u001b[0;34m.\u001b[0m\u001b[0m_engine\u001b[0m\u001b[0;34m.\u001b[0m\u001b[0mget_loc\u001b[0m\u001b[0;34m(\u001b[0m\u001b[0mcasted_key\u001b[0m\u001b[0;34m)\u001b[0m\u001b[0;34m\u001b[0m\u001b[0;34m\u001b[0m\u001b[0m\n\u001b[1;32m   3362\u001b[0m             \u001b[0;32mexcept\u001b[0m \u001b[0mKeyError\u001b[0m \u001b[0;32mas\u001b[0m \u001b[0merr\u001b[0m\u001b[0;34m:\u001b[0m\u001b[0;34m\u001b[0m\u001b[0;34m\u001b[0m\u001b[0m\n\u001b[0;32m-> 3363\u001b[0;31m                 \u001b[0;32mraise\u001b[0m \u001b[0mKeyError\u001b[0m\u001b[0;34m(\u001b[0m\u001b[0mkey\u001b[0m\u001b[0;34m)\u001b[0m \u001b[0;32mfrom\u001b[0m \u001b[0merr\u001b[0m\u001b[0;34m\u001b[0m\u001b[0;34m\u001b[0m\u001b[0m\n\u001b[0m\u001b[1;32m   3364\u001b[0m \u001b[0;34m\u001b[0m\u001b[0m\n\u001b[1;32m   3365\u001b[0m         \u001b[0;32mif\u001b[0m \u001b[0mis_scalar\u001b[0m\u001b[0;34m(\u001b[0m\u001b[0mkey\u001b[0m\u001b[0;34m)\u001b[0m \u001b[0;32mand\u001b[0m \u001b[0misna\u001b[0m\u001b[0;34m(\u001b[0m\u001b[0mkey\u001b[0m\u001b[0;34m)\u001b[0m \u001b[0;32mand\u001b[0m \u001b[0;32mnot\u001b[0m \u001b[0mself\u001b[0m\u001b[0;34m.\u001b[0m\u001b[0mhasnans\u001b[0m\u001b[0;34m:\u001b[0m\u001b[0;34m\u001b[0m\u001b[0;34m\u001b[0m\u001b[0m\n",
      "\u001b[0;31mKeyError\u001b[0m: 'remnant_mass_noisy'"
     ]
    },
    {
     "data": {
      "text/plain": [
       "<Figure size 720x576 with 0 Axes>"
      ]
     },
     "metadata": {},
     "output_type": "display_data"
    }
   ],
   "source": [
    "plt.figure(figsize=(10,8))\n",
    "\n",
    "for state in range(0, 6):\n",
    "    data = states_data[state]\n",
    "    ns_data = data[data['outcome'] == 0]\n",
    "    target = ns_data['remnant_mass_noisy'].to_numpy()\n",
    "    x, y = FFTKDE(bw='ISJ').fit(target, weights=ns_data['weights'].to_numpy()).evaluate()\n",
    "    plt.plot(x, y, label=f\"State {state}: {state_names[state]}\", lw=3)\n",
    "    \n",
    "plt.xlim(0, max(x))\n",
    "plt.title('Weights Neutron Star KDEs')\n",
    "plt.xlabel(r\"Remnant Mass ($M_{\\odot}$)\")\n",
    "plt.ylabel(r\"Probability Density ($M_{\\odot}^{-1}$)\")\n",
    "plt.tight_layout(); plt.legend(loc='best')\n",
    "plt.savefig('w_ns.png', dpi=350)"
   ]
  },
  {
   "cell_type": "code",
   "execution_count": null,
   "id": "4202be6f",
   "metadata": {},
   "outputs": [],
   "source": [
    "plt.figure(figsize=(10,8))\n",
    "\n",
    "for state in range(6):\n",
    "    if state == 2:\n",
    "        continue\n",
    "    data = states_data[state]\n",
    "    bh_data = data[data['outcome'] != 0]\n",
    "    target = bh_data['remnant_mass_noisy'].to_numpy()\n",
    "    kde_ = FFTKDE(bw='ISJ')\n",
    "    kde_.fit(target, weights=bh_data['weights'].to_numpy())\n",
    "    print(kde_.bw(target.reshape(-1, 1)))\n",
    "    x, y = kde_.evaluate()\n",
    "    #x, y = FFTKDE(bw='silverman').fit(target, weights=bh_data['weights'].to_numpy()).evaluate()\n",
    "    plt.plot(x, y, label=f\"State {state}: {state_names[state]}\", lw=3)\n",
    "\n",
    "plt.xlim(0, max(x))\n",
    "plt.title('Weighted Blackhole KDEs')\n",
    "plt.xlabel(r\"Remnant Mass ($M_{\\odot}$)\")\n",
    "plt.ylabel(r\"Probability Density ($M_{\\odot}^{-1}$)\")\n",
    "plt.tight_layout(); plt.legend(loc='best')\n",
    "plt.savefig('w_bh.png', dpi=350)"
   ]
  },
  {
   "cell_type": "code",
   "execution_count": null,
   "id": "321408e6",
   "metadata": {},
   "outputs": [],
   "source": [
    "    pd.concat([raw_data.sample(frac=1, replace=True, ignore_index=True)] * 1000, ignore_index=True).duplicated().value_counts()"
   ]
  },
  {
   "cell_type": "code",
   "execution_count": 80,
   "id": "0c999444",
   "metadata": {},
   "outputs": [],
   "source": [
    "temp = pd.read_csv(\"/Users/mikhailm.meskhi/Desktop/black_holes_5.csv\")"
   ]
  },
  {
   "cell_type": "code",
   "execution_count": 81,
   "id": "13f205c5",
   "metadata": {},
   "outputs": [
    {
     "data": {
      "text/plain": [
       "[<matplotlib.lines.Line2D at 0x7fedbc9c1b20>]"
      ]
     },
     "execution_count": 81,
     "metadata": {},
     "output_type": "execute_result"
    },
    {
     "data": {
      "image/png": "[encoded data removed]",
      "text/plain": [
       "<Figure size 432x288 with 1 Axes>"
      ]
     },
     "metadata": {
      "needs_background": "light"
     },
     "output_type": "display_data"
    }
   ],
   "source": [
    "plt.plot([1], [0.52736905], marker='s')\n",
    "plt.plot([1], [0.5291840383610322], marker='*')\n",
    "plt.plot([1], [0.54274186], marker='s')"
   ]
  },
  {
   "cell_type": "code",
   "execution_count": 82,
   "id": "72de1e6f",
   "metadata": {},
   "outputs": [
    {
     "data": {
      "text/html": [
       "<div>\n",
       "<style scoped>\n",
       "    .dataframe tbody tr th:only-of-type {\n",
       "        vertical-align: middle;\n",
       "    }\n",
       "\n",
       "    .dataframe tbody tr th {\n",
       "        vertical-align: top;\n",
       "    }\n",
       "\n",
       "    .dataframe thead th {\n",
       "        text-align: right;\n",
       "    }\n",
       "</style>\n",
       "<table border=\"1\" class=\"dataframe\">\n",
       "  <thead>\n",
       "    <tr style=\"text-align: right;\">\n",
       "      <th></th>\n",
       "      <th>Unnamed: 0</th>\n",
       "      <th>KL</th>\n",
       "      <th>TV</th>\n",
       "    </tr>\n",
       "  </thead>\n",
       "  <tbody>\n",
       "    <tr>\n",
       "      <th>0</th>\n",
       "      <td>0</td>\n",
       "      <td>0.7931955342979199</td>\n",
       "      <td>0.4508757818311635</td>\n",
       "    </tr>\n",
       "    <tr>\n",
       "      <th>1</th>\n",
       "      <td>1</td>\n",
       "      <td>0.9010639781435088</td>\n",
       "      <td>0.4883207428303978</td>\n",
       "    </tr>\n",
       "    <tr>\n",
       "      <th>2</th>\n",
       "      <td>2</td>\n",
       "      <td>0.7136444191435857</td>\n",
       "      <td>0.4176193575748463</td>\n",
       "    </tr>\n",
       "    <tr>\n",
       "      <th>3</th>\n",
       "      <td>3</td>\n",
       "      <td>0.9130816500306754</td>\n",
       "      <td>0.49279087015568673</td>\n",
       "    </tr>\n",
       "    <tr>\n",
       "      <th>4</th>\n",
       "      <td>4</td>\n",
       "      <td>0.8451517330622094</td>\n",
       "      <td>0.4650602766180361</td>\n",
       "    </tr>\n",
       "    <tr>\n",
       "      <th>...</th>\n",
       "      <td>...</td>\n",
       "      <td>...</td>\n",
       "      <td>...</td>\n",
       "    </tr>\n",
       "    <tr>\n",
       "      <th>497</th>\n",
       "      <td>497</td>\n",
       "      <td>0.8633159086009186</td>\n",
       "      <td>0.4767910738118173</td>\n",
       "    </tr>\n",
       "    <tr>\n",
       "      <th>498</th>\n",
       "      <td>498</td>\n",
       "      <td>0.7941245626932625</td>\n",
       "      <td>0.4487418424482222</td>\n",
       "    </tr>\n",
       "    <tr>\n",
       "      <th>499</th>\n",
       "      <td>499</td>\n",
       "      <td>0.635713583693541</td>\n",
       "      <td>0.3891462124123886</td>\n",
       "    </tr>\n",
       "    <tr>\n",
       "      <th>500</th>\n",
       "      <td>500</td>\n",
       "      <td>[0.62474585 1.27776567]</td>\n",
       "      <td>[0.3821994  0.57891134]</td>\n",
       "    </tr>\n",
       "    <tr>\n",
       "      <th>501</th>\n",
       "      <td>502</td>\n",
       "      <td>0.8505354708318762</td>\n",
       "      <td>0.46675279667720726</td>\n",
       "    </tr>\n",
       "  </tbody>\n",
       "</table>\n",
       "<p>502 rows × 3 columns</p>\n",
       "</div>"
      ],
      "text/plain": [
       "     Unnamed: 0                       KL                       TV\n",
       "0             0       0.7931955342979199       0.4508757818311635\n",
       "1             1       0.9010639781435088       0.4883207428303978\n",
       "2             2       0.7136444191435857       0.4176193575748463\n",
       "3             3       0.9130816500306754      0.49279087015568673\n",
       "4             4       0.8451517330622094       0.4650602766180361\n",
       "..          ...                      ...                      ...\n",
       "497         497       0.8633159086009186       0.4767910738118173\n",
       "498         498       0.7941245626932625       0.4487418424482222\n",
       "499         499        0.635713583693541       0.3891462124123886\n",
       "500         500  [0.62474585 1.27776567]  [0.3821994  0.57891134]\n",
       "501         502       0.8505354708318762      0.46675279667720726\n",
       "\n",
       "[502 rows x 3 columns]"
      ]
     },
     "execution_count": 82,
     "metadata": {},
     "output_type": "execute_result"
    }
   ],
   "source": [
    "temp"
   ]
  },
  {
   "cell_type": "code",
   "execution_count": 85,
   "id": "5f6fd26f",
   "metadata": {
    "scrolled": false
   },
   "outputs": [
    {
     "data": {
      "text/plain": [
       "(array([12.,  8., 20., 25., 54., 47., 63., 41., 41., 44., 26., 29., 26.,\n",
       "        17.,  9.,  3.,  6.,  3.,  5.,  3.,  3.,  2.,  3.,  4.,  1.,  1.,\n",
       "         1.,  0.,  0.,  2.]),\n",
       " array([0.58071037, 0.61292657, 0.64514277, 0.67735897, 0.70957517,\n",
       "        0.74179137, 0.77400757, 0.80622376, 0.83843996, 0.87065616,\n",
       "        0.90287236, 0.93508856, 0.96730476, 0.99952096, 1.03173716,\n",
       "        1.06395336, 1.09616956, 1.12838576, 1.16060196, 1.19281816,\n",
       "        1.22503435, 1.25725055, 1.28946675, 1.32168295, 1.35389915,\n",
       "        1.38611535, 1.41833155, 1.45054775, 1.48276395, 1.51498015,\n",
       "        1.54719635]),\n",
       " <BarContainer object of 30 artists>)"
      ]
     },
     "execution_count": 85,
     "metadata": {},
     "output_type": "execute_result"
    },
    {
     "data": {
      "image/png": "[encoded data removed]",
      "text/plain": [
       "<Figure size 432x288 with 1 Axes>"
      ]
     },
     "metadata": {
      "needs_background": "light"
     },
     "output_type": "display_data"
    }
   ],
   "source": [
    "plt.hist(pd.to_numeric(temp['KL'][0:499]), 30)"
   ]
  },
  {
   "cell_type": "code",
   "execution_count": null,
   "id": "dae50c96",
   "metadata": {},
   "outputs": [],
   "source": []
  }
 ],
 "metadata": {
  "kernelspec": {
   "display_name": "Python 3 (ipykernel)",
   "language": "python",
   "name": "python3"
  },
  "language_info": {
   "codemirror_mode": {
    "name": "ipython",
    "version": 3
   },
   "file_extension": ".py",
   "mimetype": "text/x-python",
   "name": "python",
   "nbconvert_exporter": "python",
   "pygments_lexer": "ipython3",
   "version": "3.9.7"
  }
 },
 "nbformat": 4,
 "nbformat_minor": 5
}
